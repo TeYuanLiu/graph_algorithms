{
 "cells": [
  {
   "cell_type": "code",
   "execution_count": 2,
   "metadata": {
    "collapsed": false
   },
   "outputs": [
    {
     "name": "stderr",
     "output_type": "stream",
     "text": [
      "\n",
      "Attaching package: 'igraph'\n",
      "\n",
      "The following objects are masked from 'package:stats':\n",
      "\n",
      "    decompose, spectrum\n",
      "\n",
      "The following object is masked from 'package:base':\n",
      "\n",
      "    union\n",
      "\n"
     ]
    }
   ],
   "source": [
    "library(rjson)\n",
    "library(igraph)\n",
    "library(data.table)"
   ]
  },
  {
   "cell_type": "code",
   "execution_count": 3,
   "metadata": {
    "collapsed": false,
    "scrolled": false
   },
   "outputs": [
    {
     "name": "stderr",
     "output_type": "stream",
     "text": [
      "Warning message in readLines(\"san_francisco_censustracts.json\"):\n",
      "\"於 'san_francisco_censustracts.json' 找到不完整的最後一列\""
     ]
    },
    {
     "data": {
      "text/html": [
       "2710"
      ],
      "text/latex": [
       "2710"
      ],
      "text/markdown": [
       "2710"
      ],
      "text/plain": [
       "[1] 2710"
      ]
     },
     "metadata": {},
     "output_type": "display_data"
    },
    {
     "data": {
      "text/html": [
       "2710"
      ],
      "text/latex": [
       "2710"
      ],
      "text/markdown": [
       "2710"
      ],
      "text/plain": [
       "[1] 2710"
      ]
     },
     "metadata": {},
     "output_type": "display_data"
    },
    {
     "data": {
      "text/html": [
       "<table>\n",
       "<thead><tr><th scope=col>id</th><th scope=col>name</th><th scope=col>coor</th></tr></thead>\n",
       "<tbody>\n",
       "\t<tr><td>1                                                    </td><td>Sargent Creek, San Ardo                              </td><td>-120.78868, 36.07163                                 </td></tr>\n",
       "\t<tr><td>2                                                    </td><td>400 Northumberland Avenue, Redwood Oaks, Redwood City</td><td>-122.21941, 37.46958                                 </td></tr>\n",
       "\t<tr><td>3                                                    </td><td>18300 Sutter Boulevard, Morgan Hill                  </td><td>-121.66022, 37.15048                                 </td></tr>\n",
       "\t<tr><td>4                                                    </td><td>2700 Stoughton Way, Sheffield, Sacramento            </td><td>-121.34285, 38.57307                                 </td></tr>\n",
       "\t<tr><td>5                                                    </td><td>3200 Huntsman Drive, Rosemont Park, Sacramento       </td><td>-121.36171, 38.55443                                 </td></tr>\n",
       "\t<tr><td>6                                                    </td><td>100 Carlsbad Circle, Vacaville                       </td><td>-121.94843, 38.36665                                 </td></tr>\n",
       "</tbody>\n",
       "</table>\n"
      ],
      "text/latex": [
       "\\begin{tabular}{r|lll}\n",
       " id & name & coor\\\\\n",
       "\\hline\n",
       "\t 1                                                     & Sargent Creek, San Ardo                               & -120.78868, 36.07163                                 \\\\\n",
       "\t 2                                                     & 400 Northumberland Avenue, Redwood Oaks, Redwood City & -122.21941, 37.46958                                 \\\\\n",
       "\t 3                                                     & 18300 Sutter Boulevard, Morgan Hill                   & -121.66022, 37.15048                                 \\\\\n",
       "\t 4                                                     & 2700 Stoughton Way, Sheffield, Sacramento             & -121.34285, 38.57307                                 \\\\\n",
       "\t 5                                                     & 3200 Huntsman Drive, Rosemont Park, Sacramento        & -121.36171, 38.55443                                 \\\\\n",
       "\t 6                                                     & 100 Carlsbad Circle, Vacaville                        & -121.94843, 38.36665                                 \\\\\n",
       "\\end{tabular}\n"
      ],
      "text/markdown": [
       "\n",
       "id | name | coor | \n",
       "|---|---|---|---|---|---|\n",
       "| 1                                                     | Sargent Creek, San Ardo                               | -120.78868, 36.07163                                  | \n",
       "| 2                                                     | 400 Northumberland Avenue, Redwood Oaks, Redwood City | -122.21941, 37.46958                                  | \n",
       "| 3                                                     | 18300 Sutter Boulevard, Morgan Hill                   | -121.66022, 37.15048                                  | \n",
       "| 4                                                     | 2700 Stoughton Way, Sheffield, Sacramento             | -121.34285, 38.57307                                  | \n",
       "| 5                                                     | 3200 Huntsman Drive, Rosemont Park, Sacramento        | -121.36171, 38.55443                                  | \n",
       "| 6                                                     | 100 Carlsbad Circle, Vacaville                        | -121.94843, 38.36665                                  | \n",
       "\n",
       "\n"
      ],
      "text/plain": [
       "  id name                                                  coor                \n",
       "1 1  Sargent Creek, San Ardo                               -120.78868, 36.07163\n",
       "2 2  400 Northumberland Avenue, Redwood Oaks, Redwood City -122.21941, 37.46958\n",
       "3 3  18300 Sutter Boulevard, Morgan Hill                   -121.66022, 37.15048\n",
       "4 4  2700 Stoughton Way, Sheffield, Sacramento             -121.34285, 38.57307\n",
       "5 5  3200 Huntsman Drive, Rosemont Park, Sacramento        -121.36171, 38.55443\n",
       "6 6  100 Carlsbad Circle, Vacaville                        -121.94843, 38.36665"
      ]
     },
     "metadata": {},
     "output_type": "display_data"
    },
    {
     "name": "stdout",
     "output_type": "stream",
     "text": [
      "[1] 36.07163\n"
     ]
    }
   ],
   "source": [
    "json_data <- fromJSON(paste(readLines(\"san_francisco_censustracts.json\"), collapse=\"\"))\n",
    "ver_attr <- data.frame(matrix(ncol = 3, nrow = 0))\n",
    "x <- c(\"id\", \"name\", \"coor\")\n",
    "colnames(ver_attr) <- x\n",
    "length(json_data$features)\n",
    "for (i in (1:length(json_data$features))){\n",
    "    coor_len <- length(json_data$features[[i]]$geometry$coordinates[[1]][[1]])\n",
    "    latitude <- 0\n",
    "    longitude <- 0\n",
    "    for (j in (1:coor_len)){\n",
    "        latitude <- latitude + json_data$features[[i]]$geometry$coordinates[[1]][[1]][[j]][1]\n",
    "        longitude <- longitude + json_data$features[[i]]$geometry$coordinates[[1]][[1]][[j]][2]\n",
    "    }\n",
    "    x <- latitude / coor_len\n",
    "    y <- longitude / coor_len\n",
    "    id <- json_data$features[[i]]$properties$MOVEMENT_ID\n",
    "    name <- json_data$features[[i]]$properties$DISPLAY_NAME\n",
    "    ver_attr[nrow(ver_attr) + 1,] = list(id, name, list(c(x, y)))\n",
    "}\n",
    "nrow(ver_attr)\n",
    "head(ver_attr)\n",
    "print(ver_attr[1,]$coor[[1]][2])"
   ]
  },
  {
   "cell_type": "code",
   "execution_count": 4,
   "metadata": {
    "collapsed": false
   },
   "outputs": [
    {
     "data": {
      "text/plain": [
       "   user  system elapsed \n",
       "   0.43    0.06    6.98 "
      ]
     },
     "metadata": {},
     "output_type": "display_data"
    },
    {
     "data": {
      "text/html": [
       "1605957"
      ],
      "text/latex": [
       "1605957"
      ],
      "text/markdown": [
       "1605957"
      ],
      "text/plain": [
       "[1] 1605957"
      ]
     },
     "metadata": {},
     "output_type": "display_data"
    },
    {
     "data": {
      "text/html": [
       "538998"
      ],
      "text/latex": [
       "538998"
      ],
      "text/markdown": [
       "538998"
      ],
      "text/plain": [
       "[1] 538998"
      ]
     },
     "metadata": {},
     "output_type": "display_data"
    },
    {
     "data": {
      "text/html": [
       "<table>\n",
       "<thead><tr><th scope=col>sourceid</th><th scope=col>dstid</th><th scope=col>month</th><th scope=col>mean_travel_time</th><th scope=col>standard_deviation_travel_time</th><th scope=col>geometric_mean_travel_time</th><th scope=col>geometric_standard_deviation_travel_time</th></tr></thead>\n",
       "<tbody>\n",
       "\t<tr><td>1938   </td><td>1952   </td><td>12     </td><td> 596.69</td><td>327.27 </td><td> 530.23</td><td>1.60   </td></tr>\n",
       "\t<tr><td>1747   </td><td> 629   </td><td>12     </td><td>1454.81</td><td>536.38 </td><td>1378.06</td><td>1.37   </td></tr>\n",
       "\t<tr><td>1872   </td><td>1919   </td><td>12     </td><td>1227.01</td><td>391.90 </td><td>1169.76</td><td>1.36   </td></tr>\n",
       "\t<tr><td>1871   </td><td>1929   </td><td>12     </td><td>1005.54</td><td>308.34 </td><td> 965.06</td><td>1.32   </td></tr>\n",
       "\t<tr><td>  81   </td><td>2319   </td><td>12     </td><td> 474.53</td><td>198.14 </td><td> 446.37</td><td>1.41   </td></tr>\n",
       "\t<tr><td>1873   </td><td>1909   </td><td>12     </td><td>1164.51</td><td>461.02 </td><td>1092.71</td><td>1.41   </td></tr>\n",
       "</tbody>\n",
       "</table>\n"
      ],
      "text/latex": [
       "\\begin{tabular}{r|lllllll}\n",
       " sourceid & dstid & month & mean\\_travel\\_time & standard\\_deviation\\_travel\\_time & geometric\\_mean\\_travel\\_time & geometric\\_standard\\_deviation\\_travel\\_time\\\\\n",
       "\\hline\n",
       "\t 1938    & 1952    & 12      &  596.69 & 327.27  &  530.23 & 1.60   \\\\\n",
       "\t 1747    &  629    & 12      & 1454.81 & 536.38  & 1378.06 & 1.37   \\\\\n",
       "\t 1872    & 1919    & 12      & 1227.01 & 391.90  & 1169.76 & 1.36   \\\\\n",
       "\t 1871    & 1929    & 12      & 1005.54 & 308.34  &  965.06 & 1.32   \\\\\n",
       "\t   81    & 2319    & 12      &  474.53 & 198.14  &  446.37 & 1.41   \\\\\n",
       "\t 1873    & 1909    & 12      & 1164.51 & 461.02  & 1092.71 & 1.41   \\\\\n",
       "\\end{tabular}\n"
      ],
      "text/markdown": [
       "\n",
       "sourceid | dstid | month | mean_travel_time | standard_deviation_travel_time | geometric_mean_travel_time | geometric_standard_deviation_travel_time | \n",
       "|---|---|---|---|---|---|\n",
       "| 1938    | 1952    | 12      |  596.69 | 327.27  |  530.23 | 1.60    | \n",
       "| 1747    |  629    | 12      | 1454.81 | 536.38  | 1378.06 | 1.37    | \n",
       "| 1872    | 1919    | 12      | 1227.01 | 391.90  | 1169.76 | 1.36    | \n",
       "| 1871    | 1929    | 12      | 1005.54 | 308.34  |  965.06 | 1.32    | \n",
       "|   81    | 2319    | 12      |  474.53 | 198.14  |  446.37 | 1.41    | \n",
       "| 1873    | 1909    | 12      | 1164.51 | 461.02  | 1092.71 | 1.41    | \n",
       "\n",
       "\n"
      ],
      "text/plain": [
       "  sourceid dstid month mean_travel_time standard_deviation_travel_time\n",
       "1 1938     1952  12     596.69          327.27                        \n",
       "2 1747      629  12    1454.81          536.38                        \n",
       "3 1872     1919  12    1227.01          391.90                        \n",
       "4 1871     1929  12    1005.54          308.34                        \n",
       "5   81     2319  12     474.53          198.14                        \n",
       "6 1873     1909  12    1164.51          461.02                        \n",
       "  geometric_mean_travel_time geometric_standard_deviation_travel_time\n",
       "1  530.23                    1.60                                    \n",
       "2 1378.06                    1.37                                    \n",
       "3 1169.76                    1.36                                    \n",
       "4  965.06                    1.32                                    \n",
       "5  446.37                    1.41                                    \n",
       "6 1092.71                    1.41                                    "
      ]
     },
     "metadata": {},
     "output_type": "display_data"
    },
    {
     "data": {
      "text/html": [
       "<table>\n",
       "<thead><tr><th scope=col>sourceid</th><th scope=col>dstid</th><th scope=col>mean_travel_time</th></tr></thead>\n",
       "<tbody>\n",
       "\t<tr><td>1938   </td><td>1952   </td><td> 596.69</td></tr>\n",
       "\t<tr><td>1747   </td><td> 629   </td><td>1454.81</td></tr>\n",
       "\t<tr><td>1872   </td><td>1919   </td><td>1227.01</td></tr>\n",
       "\t<tr><td>1871   </td><td>1929   </td><td>1005.54</td></tr>\n",
       "\t<tr><td>  81   </td><td>2319   </td><td> 474.53</td></tr>\n",
       "\t<tr><td>1873   </td><td>1909   </td><td>1164.51</td></tr>\n",
       "</tbody>\n",
       "</table>\n"
      ],
      "text/latex": [
       "\\begin{tabular}{r|lll}\n",
       " sourceid & dstid & mean\\_travel\\_time\\\\\n",
       "\\hline\n",
       "\t 1938    & 1952    &  596.69\\\\\n",
       "\t 1747    &  629    & 1454.81\\\\\n",
       "\t 1872    & 1919    & 1227.01\\\\\n",
       "\t 1871    & 1929    & 1005.54\\\\\n",
       "\t   81    & 2319    &  474.53\\\\\n",
       "\t 1873    & 1909    & 1164.51\\\\\n",
       "\\end{tabular}\n"
      ],
      "text/markdown": [
       "\n",
       "sourceid | dstid | mean_travel_time | \n",
       "|---|---|---|---|---|---|\n",
       "| 1938    | 1952    |  596.69 | \n",
       "| 1747    |  629    | 1454.81 | \n",
       "| 1872    | 1919    | 1227.01 | \n",
       "| 1871    | 1929    | 1005.54 | \n",
       "|   81    | 2319    |  474.53 | \n",
       "| 1873    | 1909    | 1164.51 | \n",
       "\n",
       "\n"
      ],
      "text/plain": [
       "  sourceid dstid mean_travel_time\n",
       "1 1938     1952   596.69         \n",
       "2 1747      629  1454.81         \n",
       "3 1872     1919  1227.01         \n",
       "4 1871     1929  1005.54         \n",
       "5   81     2319   474.53         \n",
       "6 1873     1909  1164.51         "
      ]
     },
     "metadata": {},
     "output_type": "display_data"
    },
    {
     "data": {
      "text/html": [
       "<table>\n",
       "<thead><tr><th scope=col>sourceid</th><th scope=col>dstid</th><th scope=col>weight</th></tr></thead>\n",
       "<tbody>\n",
       "\t<tr><td>1938   </td><td>1952   </td><td> 596.69</td></tr>\n",
       "\t<tr><td>1747   </td><td> 629   </td><td>1454.81</td></tr>\n",
       "\t<tr><td>1872   </td><td>1919   </td><td>1227.01</td></tr>\n",
       "\t<tr><td>1871   </td><td>1929   </td><td>1005.54</td></tr>\n",
       "\t<tr><td>  81   </td><td>2319   </td><td> 474.53</td></tr>\n",
       "\t<tr><td>1873   </td><td>1909   </td><td>1164.51</td></tr>\n",
       "</tbody>\n",
       "</table>\n"
      ],
      "text/latex": [
       "\\begin{tabular}{r|lll}\n",
       " sourceid & dstid & weight\\\\\n",
       "\\hline\n",
       "\t 1938    & 1952    &  596.69\\\\\n",
       "\t 1747    &  629    & 1454.81\\\\\n",
       "\t 1872    & 1919    & 1227.01\\\\\n",
       "\t 1871    & 1929    & 1005.54\\\\\n",
       "\t   81    & 2319    &  474.53\\\\\n",
       "\t 1873    & 1909    & 1164.51\\\\\n",
       "\\end{tabular}\n"
      ],
      "text/markdown": [
       "\n",
       "sourceid | dstid | weight | \n",
       "|---|---|---|---|---|---|\n",
       "| 1938    | 1952    |  596.69 | \n",
       "| 1747    |  629    | 1454.81 | \n",
       "| 1872    | 1919    | 1227.01 | \n",
       "| 1871    | 1929    | 1005.54 | \n",
       "|   81    | 2319    |  474.53 | \n",
       "| 1873    | 1909    | 1164.51 | \n",
       "\n",
       "\n"
      ],
      "text/plain": [
       "  sourceid dstid weight \n",
       "1 1938     1952   596.69\n",
       "2 1747      629  1454.81\n",
       "3 1872     1919  1227.01\n",
       "4 1871     1929  1005.54\n",
       "5   81     2319   474.53\n",
       "6 1873     1909  1164.51"
      ]
     },
     "metadata": {},
     "output_type": "display_data"
    }
   ],
   "source": [
    "system.time(edge_list <- fread(\"san_francisco-censustracts-2017-4-All-MonthlyAggregate.csv\"))\n",
    "nrow(edge_list)\n",
    "edge_list <- edge_list[which(edge_list[,\"month\"]==12)]\n",
    "nrow(edge_list)\n",
    "head(edge_list)\n",
    "\n",
    "edge_list <- edge_list[,c(\"sourceid\",\"dstid\",\"mean_travel_time\"), drop = FALSE]\n",
    "head(edge_list)\n",
    "colnames(edge_list)[3] <- \"weight\"\n",
    "head(edge_list)"
   ]
  },
  {
   "cell_type": "code",
   "execution_count": 5,
   "metadata": {
    "collapsed": false
   },
   "outputs": [
    {
     "data": {
      "text/plain": [
       "+ 311812/311812 edges from 54fd3a2 (vertex names):\n",
       " [1] 1938--1747 1938--1872 1938--1873 1938--232  1938--1891 1938--550 \n",
       " [7] 1938--1721 1938--176  1938--74   1938--1755 1938--1946 1938--1729\n",
       "[13] 1938--722  1938--234  1938--251  1938--544  1938--1856 1938--338 \n",
       "[19] 1938--175  1938--687  1938--818  1938--695  1938--682  1938--817 \n",
       "[25] 1938--153  1938--272  1938--1455 1938--876  1938--131  1938--2147\n",
       "[31] 1938--396  1938--2146 1938--2155 1938--52   1938--1269 1938--123 \n",
       "[37] 1938--155  1938--235  1938--702  1938--1284 1938--1925 1938--2613\n",
       "[43] 1938--1907 1938--1952 1938--1933 1938--957  1938--1906 1938--2513\n",
       "[49] 1938--2515 1938--1870 1938--1928 1938--1923 1938--1597 1938--104 \n",
       "[55] 1938--2488 1938--1893 1938--1875 1938--184  1938--65   1938--2169\n",
       "+ ... omitted several edges"
      ]
     },
     "metadata": {},
     "output_type": "display_data"
    },
    {
     "data": {
      "text/plain": [
       "+ 1887/1887 vertices, named, from 54fd3a2:\n",
       "   [1] 1938 1747 1872 1871 81   1873 232  1891 2423 650  680  542  604  660 \n",
       "  [15] 1329 2421 1736 2021 550  1721 1700 176  536  74   288  169  99   1755\n",
       "  [29] 646  2315 2322 2307 1390 641  1946 2357 1454 1729 2355 722  612  98  \n",
       "  [43] 1074 1058 614  151  2341 1056 1745 1438 1473 1469 234  1098 1457 289 \n",
       "  [57] 222  1059 1448 610  1097 1458 1484 315  1727 251  388  1748 544  1025\n",
       "  [71] 1856 1726 1296 1749 338  1066 613  175  535  1451 2700 687  809  387 \n",
       "  [85] 859  1739 1808 818  1838 738  695  685  682  817  627  339  605  153 \n",
       "  [99] 609  647  645  272  284  1455 397  1409 876  1437 131  2210 347  1759\n",
       " [113] 2147 1359 2187 152  2113 396  2146 2155 2132 277  1258 369  52   2110\n",
       " [127] 1269 2157 1504 1456 1526 2111 123  1259 446  445  1514 1170 478  2401\n",
       "+ ... omitted several vertices"
      ]
     },
     "metadata": {},
     "output_type": "display_data"
    }
   ],
   "source": [
    "graph <- graph.data.frame(edge_list, directed=F)\n",
    "graph <- simplify(graph, remove.multiple = TRUE, remove.loops = TRUE,\n",
    "  edge.attr.comb = list(weight=\"mean\", \"ignore\"))\n",
    "E(graph)\n",
    "V(graph)\n",
    "graph <- set.vertex.attribute(graph, name=\"location\", value=list(c(0,0)))\n",
    "graph <- set.vertex.attribute(graph, name=\"Display_name\", value=\"b\")"
   ]
  },
  {
   "cell_type": "code",
   "execution_count": 6,
   "metadata": {
    "collapsed": false
   },
   "outputs": [
    {
     "data": {
      "text/html": [
       "'1938'"
      ],
      "text/latex": [
       "'1938'"
      ],
      "text/markdown": [
       "'1938'"
      ],
      "text/plain": [
       "[1] \"1938\""
      ]
     },
     "metadata": {},
     "output_type": "display_data"
    },
    {
     "data": {
      "text/html": [
       "'3300 Brodie Drive, South San Jose, San Jose'"
      ],
      "text/latex": [
       "'3300 Brodie Drive, South San Jose, San Jose'"
      ],
      "text/markdown": [
       "'3300 Brodie Drive, South San Jose, San Jose'"
      ],
      "text/plain": [
       "[1] \"3300 Brodie Drive, South San Jose, San Jose\""
      ]
     },
     "metadata": {},
     "output_type": "display_data"
    },
    {
     "data": {
      "text/html": [
       "<ol>\n",
       "\t<li><ol class=list-inline>\n",
       "\t<li>-121.821735666667</li>\n",
       "\t<li>37.2905052777778</li>\n",
       "</ol>\n",
       "</li>\n",
       "</ol>\n"
      ],
      "text/latex": [
       "\\begin{enumerate}\n",
       "\\item \\begin{enumerate*}\n",
       "\\item -121.821735666667\n",
       "\\item 37.2905052777778\n",
       "\\end{enumerate*}\n",
       "\n",
       "\\end{enumerate}\n"
      ],
      "text/markdown": [
       "1. 1. -121.821735666667\n",
       "2. 37.2905052777778\n",
       "\n",
       "\n",
       "\n",
       "\n",
       "\n"
      ],
      "text/plain": [
       "[[1]]\n",
       "[1] -121.82174   37.29051\n"
      ]
     },
     "metadata": {},
     "output_type": "display_data"
    }
   ],
   "source": [
    "for (i in 1:nrow(ver_attr)){\n",
    "    V(graph)[which(V(graph)$name == ver_attr[i,]$id)]$Display_name <- ver_attr[i,]$name\n",
    "    V(graph)[which(V(graph)$name == ver_attr[i,]$id)]$location <- ver_attr[i,]$coor\n",
    "}\n",
    "V(graph)[1]$name\n",
    "V(graph)[1]$Display_name\n",
    "V(graph)[1]$location"
   ]
  },
  {
   "cell_type": "code",
   "execution_count": 7,
   "metadata": {
    "collapsed": false
   },
   "outputs": [
    {
     "data": {
      "text/plain": [
       "+ 1880/1880 vertices, named, from 6e08a80:\n",
       "   [1] 1938 1747 1872 1871 81   1873 232  1891 2423 650  680  542  604  660 \n",
       "  [15] 1329 2421 1736 2021 550  1721 1700 176  536  74   288  169  99   1755\n",
       "  [29] 646  2315 2322 2307 1390 641  1946 2357 1454 1729 2355 722  612  98  \n",
       "  [43] 1074 1058 614  151  2341 1056 1745 1438 1473 1469 234  1098 1457 289 \n",
       "  [57] 222  1059 1448 610  1097 1458 1484 315  1727 251  388  1748 544  1025\n",
       "  [71] 1856 1726 1296 1749 338  1066 613  175  535  1451 2700 687  809  387 \n",
       "  [85] 859  1739 1808 818  1838 738  695  685  682  817  627  339  605  153 \n",
       "  [99] 609  647  645  272  284  1455 397  1409 876  1437 131  2210 347  1759\n",
       " [113] 2147 1359 2187 152  2113 396  2146 2155 2132 277  1258 369  52   2110\n",
       " [127] 1269 2157 1504 1456 1526 2111 123  1259 446  445  1514 1170 478  2401\n",
       "+ ... omitted several vertices"
      ]
     },
     "metadata": {},
     "output_type": "display_data"
    },
    {
     "data": {
      "text/plain": [
       "+ 311802/311802 edges from 6e08a80 (vertex names):\n",
       " [1] 1938--1747 1938--1872 1938--1873 1938--232  1938--1891 1938--550 \n",
       " [7] 1938--1721 1938--176  1938--74   1938--1755 1938--1946 1938--1729\n",
       "[13] 1938--722  1938--234  1938--251  1938--544  1938--1856 1938--338 \n",
       "[19] 1938--175  1938--687  1938--818  1938--695  1938--682  1938--817 \n",
       "[25] 1938--153  1938--272  1938--1455 1938--876  1938--131  1938--2147\n",
       "[31] 1938--396  1938--2146 1938--2155 1938--52   1938--1269 1938--123 \n",
       "[37] 1938--155  1938--235  1938--702  1938--1284 1938--1925 1938--2613\n",
       "[43] 1938--1907 1938--1952 1938--1933 1938--957  1938--1906 1938--2513\n",
       "[49] 1938--2515 1938--1870 1938--1928 1938--1923 1938--1597 1938--104 \n",
       "[55] 1938--2488 1938--1893 1938--1875 1938--184  1938--65   1938--2169\n",
       "+ ... omitted several edges"
      ]
     },
     "metadata": {},
     "output_type": "display_data"
    }
   ],
   "source": [
    "graph.components <- clusters(graph)\n",
    "ix <- which.max(graph.components$csize)\n",
    "graph.giant <- induced.subgraph(graph, which(graph.components$membership == ix))\n",
    "V(graph.giant)\n",
    "E(graph.giant)"
   ]
  },
  {
   "cell_type": "code",
   "execution_count": 8,
   "metadata": {
    "collapsed": true
   },
   "outputs": [],
   "source": [
    "g_mst <- minimum.spanning.tree(graph.giant)"
   ]
  },
  {
   "cell_type": "code",
   "execution_count": 9,
   "metadata": {
    "collapsed": false
   },
   "outputs": [
    {
     "name": "stdout",
     "output_type": "stream",
     "text": [
      "[1] 1\n",
      "[1] \"3300 Brodie Drive, South San Jose, San Jose\"\n",
      "[1] \"4300 La Torre Avenue, South San Jose, San Jose\"\n",
      "[1] 2\n",
      "[1] \"3300 Brodie Drive, South San Jose, San Jose\"\n",
      "[1] \"3700 McLaughlin Avenue, South San Jose, San Jose\"\n",
      "[1] 3\n",
      "[1] \"3300 Brodie Drive, South San Jose, San Jose\"\n",
      "[1] \"400 Ginkgo Court, South San Jose, San Jose\"\n",
      "[1] 4\n",
      "[1] \"1700 Coyote Point Drive, Shoreview, San Mateo\"\n",
      "[1] \"1800 Helene Court, East San Mateo, San Mateo\"\n",
      "[1] 5\n",
      "[1] \"1700 Coyote Point Drive, Shoreview, San Mateo\"\n",
      "[1] \"600 Lexington Way, Oak Grove Manor, Burlingame\"\n"
     ]
    }
   ],
   "source": [
    "for( i in 1:5){\n",
    "    vs <- ends(g_mst, E(g_mst)[i])\n",
    "    print(i)\n",
    "    print(V(g_mst)[which(V(g_mst)$name==vs[1])]$Display_name)\n",
    "    print(V(g_mst)[which(V(g_mst)$name==vs[2])]$Display_name)\n",
    "}"
   ]
  },
  {
   "cell_type": "code",
   "execution_count": 34,
   "metadata": {
    "collapsed": false
   },
   "outputs": [
    {
     "data": {
      "text/html": [
       "1880"
      ],
      "text/latex": [
       "1880"
      ],
      "text/markdown": [
       "1880"
      ],
      "text/plain": [
       "[1] 1880"
      ]
     },
     "metadata": {},
     "output_type": "display_data"
    },
    {
     "name": "stdout",
     "output_type": "stream",
     "text": [
      "[1] 909\n",
      "[1] 1000\n"
     ]
    }
   ],
   "source": [
    "examples <- 0\n",
    "success <- 0\n",
    "vcount(graph.giant)\n",
    "while(1){\n",
    "    if(examples == 1000) break\n",
    "    first <- sample(1:vcount(graph.giant), 1)\n",
    "    nei <- neighbors(graph.giant, V(graph.giant)[first])\n",
    "    if(length(nei)<2) next\n",
    "    second <- sample(1:length(nei), 1)\n",
    "    third <- sample(1:length(nei), 1)\n",
    "    if(second==third) next\n",
    "    if(!are_adjacent(graph.giant, nei[second], nei[third])) next\n",
    "    a <- E(graph.giant)[V(graph.giant)[first] %--% nei[third]]$weight\n",
    "    b <- E(graph.giant)[nei[second] %--% V(graph.giant)[first]]$weight\n",
    "    c <- E(graph.giant)[nei[second] %--% nei[third]]$weight\n",
    "    if((a+b>=c) & (a+c>=b) & (c+b>=a))\n",
    "        success <- success + 1   \n",
    "    examples <- examples + 1\n",
    "}\n",
    "print(success)\n",
    "print(examples)"
   ]
  },
  {
   "cell_type": "code",
   "execution_count": 51,
   "metadata": {
    "collapsed": false
   },
   "outputs": [
    {
     "name": "stdout",
     "output_type": "stream",
     "text": [
      "[1] 8514.21\n",
      "[1] 428671.3\n"
     ]
    },
    {
     "data": {
      "image/png": "[encoded data removed]",
      "text/plain": [
       "Plot with title \"\""
      ]
     },
     "metadata": {},
     "output_type": "display_data"
    }
   ],
   "source": [
    "for(i in 1:200){\n",
    "    first <- sample(1:vcount(graph.giant), 1)\n",
    "    nei <- neighbors(graph.giant, V(graph.giant)[first])\n",
    "    second <- sample(1:length(nei), 1)\n",
    "    time <-E(graph.giant)[nei[second] %--% V(graph.giant)[first]]$weight\n",
    "    x <- abs(V(graph.giant)[first]$location[[1]][1] - nei[second]$location[[1]][1])\n",
    "    y <- abs(V(graph.giant)[first]$location[[1]][2] - nei[second]$location[[1]][2])\n",
    "    mag <- time/sqrt(x*x+y*y)\n",
    "}\n",
    "print(mag)\n",
    "preorder <- dfs(g_mst, 2, order = TRUE, dist=TRUE)\n",
    "emperical <- 0\n",
    "path <- graph.empty(n=0, directed=T)\n",
    "path <- add_vertices(path, 1, color=\"red\",name = preorder$order[1]$name, Display_name=preorder$order[1]$Display_name, location=preorder$order[1]$location)\n",
    "for (i in 1:(length(preorder$order)-1)){\n",
    "    if(length(E(graph.giant)[preorder$order[i]$name %--% preorder$order[i+1]$name])>0){\n",
    "        edge_weight <- E(graph.giant)[preorder$order[i]$name %--% preorder$order[i+1]$name]$weight\n",
    "    } else{\n",
    "        x <- abs(V(graph.giant)[preorder$order[i]$name]$location[[1]][1]-V(graph.giant)[preorder$order[i+1]$name]$location[[1]][1])\n",
    "        y <- abs(V(graph.giant)[preorder$order[i]$name]$location[[1]][2]-V(graph.giant)[preorder$order[i+1]$name]$location[[1]][2])\n",
    "        diff <- sqrt(x*x+y*y)\n",
    "        edge_weightl <- mag*diff\n",
    "    }\n",
    "    #path <- add_vertices(path, 1,color=\"orange\", name = preorder$order[i]$name, Display_name=preorder$order[i]$Display_name, location=preorder$order[i]$location)\n",
    "    path <- add_vertices(path, 1, color=\"orange\",name = preorder$order[i+1]$name, Display_name=preorder$order[i]$Display_name, location=preorder$order[i+1]$location)\n",
    "    path <- add_edges(path, c(preorder$order[i]$name,preorder$order[i+1]$name), weight=edge_weight)\n",
    "    emperical <- emperical  +  edge_weight\n",
    "}\n",
    "if(length(E(graph.giant)[preorder$order[1]$name %--% preorder$order[length(preorder$order)]$name])>0){\n",
    "    edge_weight <- E(graph.giant)[preorder$order[1]$name %--% preorder$order[length(preorder$order)]$name]$weight\n",
    "} else{\n",
    "    x <- abs(V(graph.giant)[preorder$order[1]$name]$location[[1]][1]-V(graph.giant)[preorder$order[length(preorder$order)]$name]$location[[1]][1])\n",
    "    y <- abs(V(graph.giant)[preorder$order[1]$name]$location[[1]][2]-V(graph.giant)[preorder$order[length(preorder$order)]$name]$location[[1]][2])\n",
    "    diff <- sqrt(x*x+y*y)\n",
    "    edge_weightl <- mag*diff\n",
    "}\n",
    "path <- add_vertices(path, 1, color=\"red\",name = preorder$order[1]$name, Display_name=preorder$order[1]$Display_name, location=preorder$order[1]$location)\n",
    "#path <- add_vertices(path, 1, color=\"orange\",name = preorder$order[length(preorder$order)]$name, Display_name=preorder$order[length(preorder$order)]$Display_name, location=preorder$order[length(preorder$order)]$location)\n",
    "path <- add_edges(path, c(preorder$order[length(preorder$order)]$name, preorder$order[1]$name), weight=edge_weight)\n",
    "emperical <- emperical  +  edge_weight\n",
    "print(emperical)\n",
    "output <- do.call(rbind,lapply(V(path)$location,matrix,ncol=2,byrow=TRUE))\n",
    "plot(path, vertex.size=3, vertex.label=NA, edge.color=\"black\",edge.arrow.size=0.2, edge.width=0.05, layout = output)"
   ]
  }
 ],
 "metadata": {
  "kernelspec": {
   "display_name": "R",
   "language": "R",
   "name": "ir"
  },
  "language_info": {
   "codemirror_mode": "r",
   "file_extension": ".r",
   "mimetype": "text/x-r-source",
   "name": "R",
   "pygments_lexer": "r",
   "version": "3.4.4"
  }
 },
 "nbformat": 4,
 "nbformat_minor": 2
}
